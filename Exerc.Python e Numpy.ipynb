{
 "cells": [
  {
   "cell_type": "code",
   "execution_count": 1,
   "id": "f68f23aa-16c1-4124-8530-a891f3455fe3",
   "metadata": {},
   "outputs": [
    {
     "name": "stdout",
     "output_type": "stream",
     "text": [
      "indivíduo do sexo masculino\n"
     ]
    }
   ],
   "source": [
    "# 1)Teste de gravidez\n",
    "\n",
    "#Escreva uma célula com controle de fluxos que tem como premissa a existência das seguintes variáveis:\n",
    "\n",
    "#sexo como str indicando os valores 'M' para masculino e 'F' para feminino\n",
    "#beta_hcg que indica a quantidade do beta-HCG no sangue em mUI/mL.\n",
    "#A sua tarefa é escrever um código que imprima como resultado \"indivíduo do sexo masculino\" quando sexo = 'M', caso sexo = 'F', se o valor de beta-HCG for maior que 5, retorne \"Positivo\" indicando que a paciente está grávida, e retorne \"Negativo\" caso contrário.\n",
    "\n",
    "#Não mexa nos valores da variável sexo nem em beta_hcg, e escreva um código que funcione para quaisquer valores possíveis de ambos: sexo = 'M' ou 'F' e beta_hcg assumindo valores inteiros positivos.\n",
    "\n",
    "sexo = 'M'\n",
    "beta_hcg = 0\n",
    "\n",
    "if sexo == 'M':\n",
    "    print(\"indivíduo do sexo masculino\")\n",
    "elif sexo == 'F':\n",
    "    if beta_hcg > 5:\n",
    "        print(\"Positivo\")\n",
    "    else:\n",
    "        print(\"Negativo\")"
   ]
  },
  {
   "cell_type": "code",
   "execution_count": 9,
   "id": "de990285-2f2e-4c7a-9bc9-10119733bed7",
   "metadata": {},
   "outputs": [
    {
     "name": "stdout",
     "output_type": "stream",
     "text": [
      "{'name': 'nome', 'age': 'idade', 'income': 'renda'}\n"
     ]
    }
   ],
   "source": [
    "# 2)Renomeando variáveis\n",
    "#Vamos ver adiante que uma forma de renomear variáveis de um conjunto de dados é através de dicionários - o dicionário deve conter como chave o nome original, associando a cada chave um único valor (tipo str) que contenha o nome novo.\n",
    "\n",
    "#A sua tarefa é escrever um dicionário que possa ser utilizado para traduzir as variáveis name (nome), age (idade) e income (renda). Ou seja, esse dicionário deve relacionar as chaves name, age e income às suas respectivas traduções.\n",
    "\n",
    "dic_renomeacao = {\n",
    "    'name': 'nome',\n",
    "    'age': 'idade',\n",
    "    'income': 'renda'\n",
    "}\n",
    "print(dic_renomeacao)"
   ]
  },
  {
   "cell_type": "code",
   "execution_count": 3,
   "id": "588c46a3-f01a-4ae0-80bb-7f81c0262583",
   "metadata": {},
   "outputs": [
    {
     "name": "stdout",
     "output_type": "stream",
     "text": [
      "42 é divisível por 7\n"
     ]
    }
   ],
   "source": [
    "# 3)É divisível?\n",
    "#A sua tarefa é escrever um código que indique se um número N é divisível por um número P. Escreva um programa que faça essa verificação para quaisquer combinações de N e M e devolva uma mensagem indicativa no output.\n",
    "\n",
    "N = 42\n",
    "M = 7\n",
    "\n",
    "if N % M == 0:\n",
    "  print(f\"{N} é divisível por {M}\")\n",
    "else:\n",
    "  print(f\"{N} não é divisível por {M}\")"
   ]
  },
  {
   "cell_type": "code",
   "execution_count": 4,
   "id": "8ec25c57-fc7e-437b-b15f-943df4ddd8f6",
   "metadata": {},
   "outputs": [
    {
     "name": "stdout",
     "output_type": "stream",
     "text": [
      "47 é um número primo.\n"
     ]
    }
   ],
   "source": [
    "# 4)Números primos\n",
    "#Um número N é primo se e somente se é divisível por 1, -1, por N e por -N.\n",
    "\n",
    "#Escreva um script que verifica se N é um número primo, verificando se N é divisível por todos os números de 1 a N-1. Você vai precisar usar alguma ferramenta de loop que você aprendeu para isto. No final, devolva uma mensagem no output indicando se o número é primo ou não.\n",
    "\n",
    "N = 47\n",
    "\n",
    "is_prime = True  \n",
    "\n",
    "for i in range(2, N): \n",
    "    if N % i == 0:\n",
    "        is_prime = False \n",
    "        break  \n",
    "\n",
    "if is_prime:\n",
    "    print(f\"{N} é um número primo.\")\n",
    "else:\n",
    "    print(f\"{N} não é um número primo.\")"
   ]
  },
  {
   "cell_type": "code",
   "execution_count": 5,
   "id": "b78effd3-5ec5-4111-ac4b-27df17a73bb8",
   "metadata": {},
   "outputs": [
    {
     "name": "stdout",
     "output_type": "stream",
     "text": [
      "98 não é um número primo.\n"
     ]
    }
   ],
   "source": [
    "# 5)Desafio\n",
    "#O algorítmo do exercício anterior não é o mais eficiente. O que você pode fazer para deixá-lo mais eficiente? Ou seja, executar menos comparações, portanto consumir menos tempo.\n",
    "\n",
    "#Será que precisamos correr o loop até o final sempre?\n",
    "#Será que precisamos mesmo verificar todos os números?\n",
    "#Será que precisamos ir até N-1?\n",
    "#Essas perguntas levam ao tipo de pensamento voltado a deixar um algoritmo mais eficiente. Veja se você consegue melhorar o seu.\n",
    "\n",
    "import math\n",
    "\n",
    "N = 98\n",
    "\n",
    "is_prime = True\n",
    "\n",
    "if N <= 1:\n",
    "    is_prime = False\n",
    "else:\n",
    "    for i in range(2, int(math.sqrt(N)) + 1):\n",
    "        if N % i == 0:\n",
    "            is_prime = False\n",
    "            break\n",
    "\n",
    "if is_prime:\n",
    "    print(f\"{N} é um número primo.\")\n",
    "else:\n",
    "    print(f\"{N} não é um número primo.\")"
   ]
  },
  {
   "cell_type": "code",
   "execution_count": 6,
   "id": "fd2de9e8-2d2d-4f0a-9cd6-da1bd3953917",
   "metadata": {},
   "outputs": [
    {
     "name": "stdout",
     "output_type": "stream",
     "text": [
      "21.7\n"
     ]
    }
   ],
   "source": [
    "# 6)Peso ideal 1\n",
    "#O IMC (índice de massa corpórea) é um indicador de saúde mais bem aceito que o peso. Ele é calculado como:\n",
    "\n",
    "#Segundo a OMS, valores normais são entre 18.5 e 24.9.\n",
    "\n",
    "#Sua tarefa é encontrar o ponto médio dessa faixa.\n",
    "\n",
    "lower_limit = 18.5\n",
    "upper_limit = 24.9\n",
    "\n",
    "imc_ideal = (lower_limit + upper_limit) / 2\n",
    "\n",
    "print(imc_ideal) "
   ]
  },
  {
   "cell_type": "code",
   "execution_count": 8,
   "id": "63b766a1-07b5-4525-b943-821e6bfb5f0e",
   "metadata": {},
   "outputs": [
    {
     "name": "stdout",
     "output_type": "stream",
     "text": [
      "62.71\n"
     ]
    }
   ],
   "source": [
    "# 7)Peso ideal 2\n",
    "#Recebendo um valor de altura, encontre o peso 'ideal' dessa pessoa, que fornece o IMC encontrado acima\n",
    "\n",
    "altura = 1.70\n",
    "imc_ideal = 21.7  \n",
    "\n",
    "peso_ideal = imc_ideal * (altura ** 2)\n",
    "\n",
    "peso_ideal = round(peso_ideal, 2)\n",
    "\n",
    "print(peso_ideal)"
   ]
  },
  {
   "cell_type": "code",
   "execution_count": 13,
   "id": "3d809cbc-3ba3-4e23-a75c-1fbe31d2397f",
   "metadata": {},
   "outputs": [
    {
     "name": "stdout",
     "output_type": "stream",
     "text": [
      "[83, 91, 63, 59]\n"
     ]
    }
   ],
   "source": [
    "# 8)Peso ideal 3\n",
    "#Dada uma lista contendo as alturas de pacientes, crie uma nova lista que contenha o peso 'ideal' (que fornece o IMC calculado em Peso ideal 1) desses pacientes.\n",
    "\n",
    "lista_alturas = [1.95, 2.05, 1.70, 1.65]\n",
    "imc_ideal = 21.7  \n",
    "\n",
    "lista_peso_ideal = []\n",
    "for altura in lista_alturas:\n",
    "    peso_ideal = imc_ideal * (altura ** 2)\n",
    "    lista_peso_ideal.append(round(peso_ideal))  \n",
    "\n",
    "print(lista_peso_ideal)"
   ]
  },
  {
   "cell_type": "code",
   "execution_count": 15,
   "id": "34181b76-d562-4dab-a503-987e093726cd",
   "metadata": {},
   "outputs": [
    {
     "name": "stdout",
     "output_type": "stream",
     "text": [
      "[28, 28, 19]\n"
     ]
    }
   ],
   "source": [
    "# 9)Peso ideal 4\n",
    "#Dada uma lista de tuplas - cada elemento da lista é uma tupla contendo altura e peso de um paciente - crie uma nova lista com o IMC desses pacientes.\n",
    "\n",
    "altura_peso = [(1.80, 90), (1.65, 75), (1.91, 70)]\n",
    "imc = []\n",
    "\n",
    "for altura, peso in altura_peso:\n",
    "    imc_paciente = peso / (altura ** 2)\n",
    "    imc.append(round(imc_paciente))\n",
    "\n",
    "print(imc) "
   ]
  },
  {
   "cell_type": "code",
   "execution_count": 17,
   "id": "0ebe389b-4c80-46ed-84e5-b204de7a3d06",
   "metadata": {},
   "outputs": [
    {
     "name": "stdout",
     "output_type": "stream",
     "text": [
      "[[1.8, 90, 27.78, 'alto'], [1.65, 75, 27.55, 'alto'], [1.91, 70, 19.19, 'normal']]\n"
     ]
    }
   ],
   "source": [
    "# 10)Peso ideal 5\n",
    "#Dada uma lista de listas - cada elemento da lista é uma lista contendo altura e peso de um paciente, adicione mais um elemento à lista de cada paciente contendo o IMC do paciente. Verifique também se é 'baixo', 'normal' ou 'alto' segundo os padrões da OMS em que normal é entre 18.5 e 24.9.\n",
    "\n",
    "#Reflexão: por que no problema anterior temos que criar uma nova lista, e não podemos adicionar os dados de cada indivíduo à tupla?\n",
    "\n",
    "altura_peso = [[1.80, 90], [1.65, 75], [1.91, 70]]\n",
    "\n",
    "for paciente in altura_peso:\n",
    "    altura, peso = paciente[0], paciente[1]  \n",
    "    imc = peso / (altura ** 2)             \n",
    "    \n",
    "    # Classify BMI\n",
    "    if imc < 18.5:\n",
    "        classificacao = 'baixo'\n",
    "    elif 18.5 <= imc <= 24.9:\n",
    "        classificacao = 'normal'\n",
    "    else:\n",
    "        classificacao = 'alto'\n",
    "    \n",
    "    paciente.extend([round(imc, 2), classificacao])   \n",
    "\n",
    "print(altura_peso)"
   ]
  }
 ],
 "metadata": {
  "kernelspec": {
   "display_name": "Python 3 (ipykernel)",
   "language": "python",
   "name": "python3"
  },
  "language_info": {
   "codemirror_mode": {
    "name": "ipython",
    "version": 3
   },
   "file_extension": ".py",
   "mimetype": "text/x-python",
   "name": "python",
   "nbconvert_exporter": "python",
   "pygments_lexer": "ipython3",
   "version": "3.12.4"
  }
 },
 "nbformat": 4,
 "nbformat_minor": 5
}
